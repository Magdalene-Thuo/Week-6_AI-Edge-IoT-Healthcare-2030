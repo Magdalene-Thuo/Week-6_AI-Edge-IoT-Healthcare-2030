{
  "nbformat": 4,
  "nbformat_minor": 0,
  "metadata": {
    "colab": {
      "provenance": [],
      "authorship_tag": "ABX9TyMHHwsndvxKhzBfHKr9MXlO",
      "include_colab_link": true
    },
    "kernelspec": {
      "name": "python3",
      "display_name": "Python 3"
    },
    "language_info": {
      "name": "python"
    }
  },
  "cells": [
    {
      "cell_type": "markdown",
      "metadata": {
        "id": "view-in-github",
        "colab_type": "text"
      },
      "source": [
        "<a href=\"https://colab.research.google.com/github/Magdalene-Thuo/Week-6_AI-Edge-IoT-Healthcare-2030/blob/EdgeAI_Prototype/edgeAI.ipynb\" target=\"_parent\"><img src=\"https://colab.research.google.com/assets/colab-badge.svg\" alt=\"Open In Colab\"/></a>"
      ]
    },
    {
      "cell_type": "code",
      "source": [
        "import os\n",
        "\n",
        "# Step 1: Create folder structure\n",
        "base_dir = \"/content/dataset\"\n",
        "subdirs = ['train/recyclable', 'train/non_recyclable', 'val/recyclable', 'val/non_recyclable']\n",
        "\n",
        "for subdir in subdirs:\n",
        "    os.makedirs(os.path.join(base_dir, subdir), exist_ok=True)\n",
        "\n",
        "print(\"Folder structure created.\")\n",
        "from PIL import Image, ImageDraw\n",
        "import random\n",
        "\n",
        "def create_image(label, path, count=30):\n",
        "    for i in range(count):\n",
        "        img = Image.new('RGB', (64, 64), color='white')\n",
        "        draw = ImageDraw.Draw(img)\n",
        "\n",
        "        if label == \"recyclable\":\n",
        "            draw.rectangle([10, 10, 54, 54], fill=random.choice([\"blue\", \"green\", \"cyan\"]))\n",
        "        else:\n",
        "            draw.ellipse([10, 10, 54, 54], fill=random.choice([\"red\", \"black\", \"yellow\"]))\n",
        "\n",
        "        img.save(f\"{path}/{label}_{i}.png\")\n",
        "\n",
        "# Generate sample images\n",
        "create_image(\"recyclable\", base_dir + \"/train/recyclable\")\n",
        "create_image(\"non_recyclable\", base_dir + \"/train/non_recyclable\")\n",
        "create_image(\"recyclable\", base_dir + \"/val/recyclable\", 10)\n",
        "create_image(\"non_recyclable\", base_dir + \"/val/non_recyclable\", 10)\n",
        "\n",
        "print(\"✅ Sample images created.\")\n",
        "import tensorflow as tf\n",
        "from tensorflow.keras.models import Sequential\n",
        "from tensorflow.keras.layers import Conv2D, MaxPooling2D, Flatten, Dense\n",
        "from tensorflow.keras.preprocessing.image import ImageDataGenerator\n",
        "\n",
        "# Set image size and paths\n",
        "img_height, img_width = 64, 64\n",
        "batch_size = 16\n",
        "train_dir = \"/content/dataset/train\"\n",
        "val_dir = \"/content/dataset/val\"\n",
        "\n",
        "# Normalize images\n",
        "train_datagen = ImageDataGenerator(rescale=1.0/255)\n",
        "val_datagen = ImageDataGenerator(rescale=1.0/255)\n",
        "\n",
        "# Load image batches\n",
        "train_generator = train_datagen.flow_from_directory(\n",
        "    train_dir,\n",
        "    target_size=(img_height, img_width),\n",
        "    batch_size=batch_size,\n",
        "    class_mode='binary'\n",
        ")\n",
        "\n",
        "val_generator = val_datagen.flow_from_directory(\n",
        "    val_dir,\n",
        "    target_size=(img_height, img_width),\n",
        "    batch_size=batch_size,\n",
        "    class_mode='binary'\n",
        ")\n",
        "\n",
        "# Build CNN model\n",
        "model = Sequential([\n",
        "    Conv2D(32, (3, 3), activation='relu', input_shape=(img_height, img_width, 3)),\n",
        "    MaxPooling2D(2, 2),\n",
        "    Conv2D(64, (3, 3), activation='relu'),\n",
        "    MaxPooling2D(2, 2),\n",
        "    Flatten(),\n",
        "    Dense(64, activation='relu'),\n",
        "    Dense(1, activation='sigmoid')\n",
        "])\n",
        "\n",
        "model.compile(optimizer='adam', loss='binary_crossentropy', metrics=['accuracy'])\n",
        "\n",
        "# Train the model\n",
        "model.fit(train_generator, epochs=5, validation_data=val_generator)\n",
        "\n",
        "# Save it\n",
        "model.save(\"/content/recycle_model.h5\")\n",
        "loss, acc = model.evaluate(val_generator)\n",
        "print(f\"✅ Validation Accuracy: {acc:.2f}\")\n",
        "converter = tf.lite.TFLiteConverter.from_keras_model(model)\n",
        "tflite_model = converter.convert()\n",
        "\n",
        "# Save the converted model\n",
        "with open(\"recycle_model.tflite\", \"wb\") as f:\n",
        "    f.write(tflite_model)\n",
        "\n",
        "print(\"✅ Model converted to TensorFlow Lite.\")\n",
        "import numpy as np\n",
        "import tensorflow as tf\n",
        "from PIL import Image\n",
        "import os\n",
        "\n",
        "# Load the TFLite model\n",
        "interpreter = tf.lite.Interpreter(model_path=\"recycle_model.tflite\")\n",
        "interpreter.allocate_tensors()\n",
        "\n",
        "# Get input and output tensor details\n",
        "input_details = interpreter.get_input_details()\n",
        "output_details = interpreter.get_output_details()\n",
        "\n",
        "# Load one image to test (adjust the filename if needed)\n",
        "test_img_path = \"/content/dataset/val/recyclable/recyclable_0.png\"  # You can change this path\n",
        "img = Image.open(test_img_path).resize((64, 64))\n",
        "img_array = np.array(img) / 255.0\n",
        "img_array = np.expand_dims(img_array.astype(np.float32), axis=0)  # Shape (1, 64, 64, 3)\n",
        "\n",
        "# Run inference\n",
        "interpreter.set_tensor(input_details[0]['index'], img_array)\n",
        "interpreter.invoke()\n",
        "output = interpreter.get_tensor(output_details[0]['index'])\n",
        "\n",
        "# Show result\n",
        "predicted = \"Recyclable\" if output[0][0] > 0.5 else \"Non-Recyclable\"\n",
        "print(f\"🧠 Prediction: {predicted} (Confidence: {output[0][0]:.2f})\")\n",
        "\n",
        "\n",
        "\n",
        "\n",
        "\n"
      ],
      "metadata": {
        "colab": {
          "base_uri": "https://localhost:8080/"
        },
        "id": "7oXUMer1c7sf",
        "outputId": "868663bc-fe26-415b-ae32-3430962b363b"
      },
      "execution_count": 16,
      "outputs": [
        {
          "output_type": "stream",
          "name": "stdout",
          "text": [
            "Folder structure created.\n",
            "✅ Sample images created.\n",
            "Found 60 images belonging to 2 classes.\n",
            "Found 20 images belonging to 2 classes.\n"
          ]
        },
        {
          "output_type": "stream",
          "name": "stderr",
          "text": [
            "/usr/local/lib/python3.11/dist-packages/keras/src/layers/convolutional/base_conv.py:107: UserWarning: Do not pass an `input_shape`/`input_dim` argument to a layer. When using Sequential models, prefer using an `Input(shape)` object as the first layer in the model instead.\n",
            "  super().__init__(activity_regularizer=activity_regularizer, **kwargs)\n"
          ]
        },
        {
          "output_type": "stream",
          "name": "stdout",
          "text": [
            "Epoch 1/5\n"
          ]
        },
        {
          "output_type": "stream",
          "name": "stderr",
          "text": [
            "/usr/local/lib/python3.11/dist-packages/keras/src/trainers/data_adapters/py_dataset_adapter.py:121: UserWarning: Your `PyDataset` class should call `super().__init__(**kwargs)` in its constructor. `**kwargs` can include `workers`, `use_multiprocessing`, `max_queue_size`. Do not pass these arguments to `fit()`, as they will be ignored.\n",
            "  self._warn_if_super_not_called()\n"
          ]
        },
        {
          "output_type": "stream",
          "name": "stdout",
          "text": [
            "\u001b[1m4/4\u001b[0m \u001b[32m━━━━━━━━━━━━━━━━━━━━\u001b[0m\u001b[37m\u001b[0m \u001b[1m3s\u001b[0m 250ms/step - accuracy: 0.4475 - loss: 0.5988 - val_accuracy: 1.0000 - val_loss: 0.1641\n",
            "Epoch 2/5\n",
            "\u001b[1m4/4\u001b[0m \u001b[32m━━━━━━━━━━━━━━━━━━━━\u001b[0m\u001b[37m\u001b[0m \u001b[1m0s\u001b[0m 104ms/step - accuracy: 1.0000 - loss: 0.1268 - val_accuracy: 1.0000 - val_loss: 0.0255\n",
            "Epoch 3/5\n",
            "\u001b[1m4/4\u001b[0m \u001b[32m━━━━━━━━━━━━━━━━━━━━\u001b[0m\u001b[37m\u001b[0m \u001b[1m0s\u001b[0m 133ms/step - accuracy: 1.0000 - loss: 0.0126 - val_accuracy: 1.0000 - val_loss: 0.0034\n",
            "Epoch 4/5\n",
            "\u001b[1m4/4\u001b[0m \u001b[32m━━━━━━━━━━━━━━━━━━━━\u001b[0m\u001b[37m\u001b[0m \u001b[1m0s\u001b[0m 108ms/step - accuracy: 1.0000 - loss: 0.0021 - val_accuracy: 1.0000 - val_loss: 4.1635e-04\n",
            "Epoch 5/5\n",
            "\u001b[1m4/4\u001b[0m \u001b[32m━━━━━━━━━━━━━━━━━━━━\u001b[0m\u001b[37m\u001b[0m \u001b[1m0s\u001b[0m 117ms/step - accuracy: 1.0000 - loss: 3.1271e-04 - val_accuracy: 1.0000 - val_loss: 8.8501e-05\n"
          ]
        },
        {
          "output_type": "stream",
          "name": "stderr",
          "text": [
            "WARNING:absl:You are saving your model as an HDF5 file via `model.save()` or `keras.saving.save_model(model)`. This file format is considered legacy. We recommend using instead the native Keras format, e.g. `model.save('my_model.keras')` or `keras.saving.save_model(model, 'my_model.keras')`. \n"
          ]
        },
        {
          "output_type": "stream",
          "name": "stdout",
          "text": [
            "\u001b[1m2/2\u001b[0m \u001b[32m━━━━━━━━━━━━━━━━━━━━\u001b[0m\u001b[37m\u001b[0m \u001b[1m0s\u001b[0m 32ms/step - accuracy: 1.0000 - loss: 9.0926e-05\n",
            "✅ Validation Accuracy: 1.00\n",
            "Saved artifact at '/tmp/tmpn5618tbh'. The following endpoints are available:\n",
            "\n",
            "* Endpoint 'serve'\n",
            "  args_0 (POSITIONAL_ONLY): TensorSpec(shape=(None, 64, 64, 3), dtype=tf.float32, name='keras_tensor_32')\n",
            "Output Type:\n",
            "  TensorSpec(shape=(None, 1), dtype=tf.float32, name=None)\n",
            "Captures:\n",
            "  133360568948816: TensorSpec(shape=(), dtype=tf.resource, name=None)\n",
            "  133360568948240: TensorSpec(shape=(), dtype=tf.resource, name=None)\n",
            "  133360568946896: TensorSpec(shape=(), dtype=tf.resource, name=None)\n",
            "  133360568950736: TensorSpec(shape=(), dtype=tf.resource, name=None)\n",
            "  133360568942864: TensorSpec(shape=(), dtype=tf.resource, name=None)\n",
            "  133360568951504: TensorSpec(shape=(), dtype=tf.resource, name=None)\n",
            "  133360568950928: TensorSpec(shape=(), dtype=tf.resource, name=None)\n",
            "  133360568952272: TensorSpec(shape=(), dtype=tf.resource, name=None)\n",
            "✅ Model converted to TensorFlow Lite.\n",
            "🧠 Prediction: Recyclable (Confidence: 1.00)\n"
          ]
        },
        {
          "output_type": "stream",
          "name": "stderr",
          "text": [
            "/usr/local/lib/python3.11/dist-packages/tensorflow/lite/python/interpreter.py:457: UserWarning:     Warning: tf.lite.Interpreter is deprecated and is scheduled for deletion in\n",
            "    TF 2.20. Please use the LiteRT interpreter from the ai_edge_litert package.\n",
            "    See the [migration guide](https://ai.google.dev/edge/litert/migration)\n",
            "    for details.\n",
            "    \n",
            "  warnings.warn(_INTERPRETER_DELETION_WARNING)\n"
          ]
        }
      ]
    },
    {
      "cell_type": "code",
      "source": [],
      "metadata": {
        "id": "bHmW1DJyeMMc"
      },
      "execution_count": null,
      "outputs": []
    }
  ]
}